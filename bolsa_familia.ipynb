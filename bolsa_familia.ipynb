{
 "cells": [
  {
   "cell_type": "markdown",
   "metadata": {},
   "source": [
    "<img src=\"bolsafamilia.jpg\" width=\"800\"/>"
   ]
  },
  {
   "cell_type": "markdown",
   "metadata": {},
   "source": [
    "<h1>Pagamentos do programa Bolsa Família  Janeiro de 2020</h1><br>\n",
    "Está apresentação foi criada por <b>Fabricio Almeida da Silva</b>. Farei algumas análises sobre os dados encontrados neste <a href=\"http://www.dados.gov.br/dataset/bolsa-familia-pagamentos/resource/6337fab7-c6c8-4ad5-8519-838ae9ad9933\">DataSet</a> do programa Bolsa Família relativo ao mês de Janeiro de 2020."
   ]
  },
  {
   "cell_type": "markdown",
   "metadata": {},
   "source": [
    "#### O que queremos desse DataSet?\n",
    "1 - Número de beneficiários Bolsa Família por estado\n",
    "<br> 2 - Valor total de beneficios(em dinheiro) por estado\n",
    "<br> 3 - As 10 cidades com o maior número de beneficiários\n",
    "<br> 4 - As 10 cidades com o maior valor total de beneficios(em dinheiro)"
   ]
  },
  {
   "cell_type": "code",
   "execution_count": 51,
   "metadata": {},
   "outputs": [
    {
     "data": {
      "text/html": [
       "        <script type=\"text/javascript\">\n",
       "        window.PlotlyConfig = {MathJaxConfig: 'local'};\n",
       "        if (window.MathJax) {MathJax.Hub.Config({SVG: {font: \"STIX-Web\"}});}\n",
       "        if (typeof require !== 'undefined') {\n",
       "        require.undef(\"plotly\");\n",
       "        requirejs.config({\n",
       "            paths: {\n",
       "                'plotly': ['https://cdn.plot.ly/plotly-latest.min']\n",
       "            }\n",
       "        });\n",
       "        require(['plotly'], function(Plotly) {\n",
       "            window._Plotly = Plotly;\n",
       "        });\n",
       "        }\n",
       "        </script>\n",
       "        "
      ]
     },
     "metadata": {},
     "output_type": "display_data"
    }
   ],
   "source": [
    "#Importando as bilbliotecas necessárias.\n",
    "import pandas as pd\n",
    "import plotly\n",
    "import plotly.graph_objs as go\n",
    "import plotly.offline as py\n",
    "plotly.offline.init_notebook_mode(connected=True)"
   ]
  },
  {
   "cell_type": "code",
   "execution_count": 52,
   "metadata": {},
   "outputs": [
    {
     "data": {
      "text/html": [
       "<div>\n",
       "<style scoped>\n",
       "    .dataframe tbody tr th:only-of-type {\n",
       "        vertical-align: middle;\n",
       "    }\n",
       "\n",
       "    .dataframe tbody tr th {\n",
       "        vertical-align: top;\n",
       "    }\n",
       "\n",
       "    .dataframe thead th {\n",
       "        text-align: right;\n",
       "    }\n",
       "</style>\n",
       "<table border=\"1\" class=\"dataframe\">\n",
       "  <thead>\n",
       "    <tr style=\"text-align: right;\">\n",
       "      <th></th>\n",
       "      <th>MÊS REFERÊNCIA</th>\n",
       "      <th>MÊS COMPETÊNCIA</th>\n",
       "      <th>UF</th>\n",
       "      <th>CÓDIGO MUNICÍPIO SIAFI</th>\n",
       "      <th>NOME MUNICÍPIO</th>\n",
       "      <th>NIS FAVORECIDO</th>\n",
       "      <th>NOME FAVORECIDO</th>\n",
       "      <th>VALOR PARCELA</th>\n",
       "    </tr>\n",
       "  </thead>\n",
       "  <tbody>\n",
       "    <tr>\n",
       "      <td>0</td>\n",
       "      <td>202001</td>\n",
       "      <td>201901</td>\n",
       "      <td>MG</td>\n",
       "      <td>4123</td>\n",
       "      <td>BELO HORIZONTE</td>\n",
       "      <td>12581466091</td>\n",
       "      <td>ADRIANA RANGEL SANSAO</td>\n",
       "      <td>253,00</td>\n",
       "    </tr>\n",
       "    <tr>\n",
       "      <td>1</td>\n",
       "      <td>202001</td>\n",
       "      <td>201901</td>\n",
       "      <td>MG</td>\n",
       "      <td>4123</td>\n",
       "      <td>BELO HORIZONTE</td>\n",
       "      <td>16057458312</td>\n",
       "      <td>ALEXSANDRA PEREIRA MUTZ</td>\n",
       "      <td>253,00</td>\n",
       "    </tr>\n",
       "    <tr>\n",
       "      <td>2</td>\n",
       "      <td>202001</td>\n",
       "      <td>201901</td>\n",
       "      <td>MG</td>\n",
       "      <td>4123</td>\n",
       "      <td>BELO HORIZONTE</td>\n",
       "      <td>16127018278</td>\n",
       "      <td>ELIANA CRISTINA ROCHA SILVA</td>\n",
       "      <td>212,00</td>\n",
       "    </tr>\n",
       "    <tr>\n",
       "      <td>3</td>\n",
       "      <td>202001</td>\n",
       "      <td>201901</td>\n",
       "      <td>MG</td>\n",
       "      <td>4123</td>\n",
       "      <td>BELO HORIZONTE</td>\n",
       "      <td>12135368026</td>\n",
       "      <td>ELIANE PEREIRA</td>\n",
       "      <td>212,00</td>\n",
       "    </tr>\n",
       "    <tr>\n",
       "      <td>4</td>\n",
       "      <td>202001</td>\n",
       "      <td>201901</td>\n",
       "      <td>MG</td>\n",
       "      <td>4123</td>\n",
       "      <td>BELO HORIZONTE</td>\n",
       "      <td>16271288457</td>\n",
       "      <td>IOLANDA DE ASSIS SILVA CESARINO</td>\n",
       "      <td>294,00</td>\n",
       "    </tr>\n",
       "  </tbody>\n",
       "</table>\n",
       "</div>"
      ],
      "text/plain": [
       "   MÊS REFERÊNCIA  MÊS COMPETÊNCIA  UF  CÓDIGO MUNICÍPIO SIAFI  \\\n",
       "0          202001           201901  MG                    4123   \n",
       "1          202001           201901  MG                    4123   \n",
       "2          202001           201901  MG                    4123   \n",
       "3          202001           201901  MG                    4123   \n",
       "4          202001           201901  MG                    4123   \n",
       "\n",
       "   NOME MUNICÍPIO  NIS FAVORECIDO                  NOME FAVORECIDO  \\\n",
       "0  BELO HORIZONTE     12581466091            ADRIANA RANGEL SANSAO   \n",
       "1  BELO HORIZONTE     16057458312          ALEXSANDRA PEREIRA MUTZ   \n",
       "2  BELO HORIZONTE     16127018278      ELIANA CRISTINA ROCHA SILVA   \n",
       "3  BELO HORIZONTE     12135368026                   ELIANE PEREIRA   \n",
       "4  BELO HORIZONTE     16271288457  IOLANDA DE ASSIS SILVA CESARINO   \n",
       "\n",
       "  VALOR PARCELA  \n",
       "0        253,00  \n",
       "1        253,00  \n",
       "2        212,00  \n",
       "3        212,00  \n",
       "4        294,00  "
      ]
     },
     "execution_count": 52,
     "metadata": {},
     "output_type": "execute_result"
    }
   ],
   "source": [
    "#Importando o DataSet Bolsa Família relativo a Janeiro de 2020\n",
    "df = pd.read_csv('202001_BolsaFamilia_Pagamentos.csv', sep= ';', encoding='ISO-8859-1')\n",
    "df.head()"
   ]
  },
  {
   "cell_type": "code",
   "execution_count": 53,
   "metadata": {},
   "outputs": [
    {
     "data": {
      "text/html": [
       "<div>\n",
       "<style scoped>\n",
       "    .dataframe tbody tr th:only-of-type {\n",
       "        vertical-align: middle;\n",
       "    }\n",
       "\n",
       "    .dataframe tbody tr th {\n",
       "        vertical-align: top;\n",
       "    }\n",
       "\n",
       "    .dataframe thead th {\n",
       "        text-align: right;\n",
       "    }\n",
       "</style>\n",
       "<table border=\"1\" class=\"dataframe\">\n",
       "  <thead>\n",
       "    <tr style=\"text-align: right;\">\n",
       "      <th></th>\n",
       "      <th>UF</th>\n",
       "      <th>NOME MUNICÍPIO</th>\n",
       "      <th>NOME FAVORECIDO</th>\n",
       "      <th>VALOR PARCELA</th>\n",
       "    </tr>\n",
       "  </thead>\n",
       "  <tbody>\n",
       "    <tr>\n",
       "      <td>0</td>\n",
       "      <td>MG</td>\n",
       "      <td>BELO HORIZONTE</td>\n",
       "      <td>ADRIANA RANGEL SANSAO</td>\n",
       "      <td>253,00</td>\n",
       "    </tr>\n",
       "    <tr>\n",
       "      <td>1</td>\n",
       "      <td>MG</td>\n",
       "      <td>BELO HORIZONTE</td>\n",
       "      <td>ALEXSANDRA PEREIRA MUTZ</td>\n",
       "      <td>253,00</td>\n",
       "    </tr>\n",
       "    <tr>\n",
       "      <td>2</td>\n",
       "      <td>MG</td>\n",
       "      <td>BELO HORIZONTE</td>\n",
       "      <td>ELIANA CRISTINA ROCHA SILVA</td>\n",
       "      <td>212,00</td>\n",
       "    </tr>\n",
       "    <tr>\n",
       "      <td>3</td>\n",
       "      <td>MG</td>\n",
       "      <td>BELO HORIZONTE</td>\n",
       "      <td>ELIANE PEREIRA</td>\n",
       "      <td>212,00</td>\n",
       "    </tr>\n",
       "    <tr>\n",
       "      <td>4</td>\n",
       "      <td>MG</td>\n",
       "      <td>BELO HORIZONTE</td>\n",
       "      <td>IOLANDA DE ASSIS SILVA CESARINO</td>\n",
       "      <td>294,00</td>\n",
       "    </tr>\n",
       "  </tbody>\n",
       "</table>\n",
       "</div>"
      ],
      "text/plain": [
       "   UF  NOME MUNICÍPIO                  NOME FAVORECIDO VALOR PARCELA\n",
       "0  MG  BELO HORIZONTE            ADRIANA RANGEL SANSAO        253,00\n",
       "1  MG  BELO HORIZONTE          ALEXSANDRA PEREIRA MUTZ        253,00\n",
       "2  MG  BELO HORIZONTE      ELIANA CRISTINA ROCHA SILVA        212,00\n",
       "3  MG  BELO HORIZONTE                   ELIANE PEREIRA        212,00\n",
       "4  MG  BELO HORIZONTE  IOLANDA DE ASSIS SILVA CESARINO        294,00"
      ]
     },
     "execution_count": 53,
     "metadata": {},
     "output_type": "execute_result"
    }
   ],
   "source": [
    "# Excluindo as colunas que não iremos precisar\n",
    "df.drop('MÊS REFERÊNCIA', inplace=True, axis=1)\n",
    "df.drop('MÊS COMPETÊNCIA', inplace=True, axis=1)\n",
    "df.drop('CÓDIGO MUNICÍPIO SIAFI', inplace=True, axis=1)\n",
    "df.drop('NIS FAVORECIDO', inplace=True, axis=1)\n",
    "df.head()"
   ]
  },
  {
   "cell_type": "code",
   "execution_count": 54,
   "metadata": {},
   "outputs": [
    {
     "data": {
      "text/html": [
       "<div>\n",
       "<style scoped>\n",
       "    .dataframe tbody tr th:only-of-type {\n",
       "        vertical-align: middle;\n",
       "    }\n",
       "\n",
       "    .dataframe tbody tr th {\n",
       "        vertical-align: top;\n",
       "    }\n",
       "\n",
       "    .dataframe thead th {\n",
       "        text-align: right;\n",
       "    }\n",
       "</style>\n",
       "<table border=\"1\" class=\"dataframe\">\n",
       "  <thead>\n",
       "    <tr style=\"text-align: right;\">\n",
       "      <th></th>\n",
       "      <th>uf</th>\n",
       "      <th>municipio</th>\n",
       "      <th>favorecido</th>\n",
       "      <th>valor</th>\n",
       "    </tr>\n",
       "  </thead>\n",
       "  <tbody>\n",
       "    <tr>\n",
       "      <td>0</td>\n",
       "      <td>MG</td>\n",
       "      <td>BELO HORIZONTE</td>\n",
       "      <td>ADRIANA RANGEL SANSAO</td>\n",
       "      <td>253,00</td>\n",
       "    </tr>\n",
       "    <tr>\n",
       "      <td>1</td>\n",
       "      <td>MG</td>\n",
       "      <td>BELO HORIZONTE</td>\n",
       "      <td>ALEXSANDRA PEREIRA MUTZ</td>\n",
       "      <td>253,00</td>\n",
       "    </tr>\n",
       "    <tr>\n",
       "      <td>2</td>\n",
       "      <td>MG</td>\n",
       "      <td>BELO HORIZONTE</td>\n",
       "      <td>ELIANA CRISTINA ROCHA SILVA</td>\n",
       "      <td>212,00</td>\n",
       "    </tr>\n",
       "    <tr>\n",
       "      <td>3</td>\n",
       "      <td>MG</td>\n",
       "      <td>BELO HORIZONTE</td>\n",
       "      <td>ELIANE PEREIRA</td>\n",
       "      <td>212,00</td>\n",
       "    </tr>\n",
       "    <tr>\n",
       "      <td>4</td>\n",
       "      <td>MG</td>\n",
       "      <td>BELO HORIZONTE</td>\n",
       "      <td>IOLANDA DE ASSIS SILVA CESARINO</td>\n",
       "      <td>294,00</td>\n",
       "    </tr>\n",
       "  </tbody>\n",
       "</table>\n",
       "</div>"
      ],
      "text/plain": [
       "   uf       municipio                       favorecido   valor\n",
       "0  MG  BELO HORIZONTE            ADRIANA RANGEL SANSAO  253,00\n",
       "1  MG  BELO HORIZONTE          ALEXSANDRA PEREIRA MUTZ  253,00\n",
       "2  MG  BELO HORIZONTE      ELIANA CRISTINA ROCHA SILVA  212,00\n",
       "3  MG  BELO HORIZONTE                   ELIANE PEREIRA  212,00\n",
       "4  MG  BELO HORIZONTE  IOLANDA DE ASSIS SILVA CESARINO  294,00"
      ]
     },
     "execution_count": 54,
     "metadata": {},
     "output_type": "execute_result"
    }
   ],
   "source": [
    "#Renomeando as colunas\n",
    "df = df.rename(columns={'VALOR PARCELA': 'valor'})\n",
    "df = df.rename(columns={'NOME MUNICÍPIO': 'municipio'})\n",
    "df = df.rename(columns={'UF': 'uf'})\n",
    "df = df.rename(columns={'NOME FAVORECIDO': 'favorecido'})\n",
    "df.head()"
   ]
  },
  {
   "cell_type": "markdown",
   "metadata": {},
   "source": [
    "### 1 - Número de beneficiários Bolsa Família por estado"
   ]
  },
  {
   "cell_type": "code",
   "execution_count": 55,
   "metadata": {},
   "outputs": [],
   "source": [
    "#Criando a variavel estados_beneficiarios que recebe a contagem dos beneficiarios por estado\n",
    "estados_beneficiarios = df.uf.value_counts()"
   ]
  },
  {
   "cell_type": "code",
   "execution_count": null,
   "metadata": {},
   "outputs": [],
   "source": [
    "#Plotando gráfico\n",
    "data = [go.Bar(x=estados_beneficiarios.index,\n",
    "        y=estados_beneficiarios.values,\n",
    "        marker = {'color':'lightblue'})]\n",
    "\n",
    "\n",
    "layout = go.Layout(title='Número de beneficiários Bolsa Família por estado',\n",
    "                   yaxis={'title':'Beneficiários(em milhões)'},\n",
    "                   xaxis={'title':'Estados'})\n",
    "\n",
    "fig = go.Figure(data=data, layout=layout)\n",
    "py.iplot(fig)"
   ]
  },
  {
   "cell_type": "markdown",
   "metadata": {},
   "source": [
    "### 2 - Valor total de beneficios(em dinheiro) por estado"
   ]
  },
  {
   "cell_type": "code",
   "execution_count": null,
   "metadata": {},
   "outputs": [],
   "source": [
    "#Convertendo a coluna valor de object para float\n",
    "df['valor'] = df['valor'].str.replace('.', '').str.replace(',', '.').astype(\"float\")"
   ]
  },
  {
   "cell_type": "code",
   "execution_count": null,
   "metadata": {},
   "outputs": [],
   "source": [
    "#Criando a variavel estados_valor que recebe a soma dos valores ordenados por estado\n",
    "estados_valor = df.groupby(by='uf').valor.sum()"
   ]
  },
  {
   "cell_type": "code",
   "execution_count": null,
   "metadata": {},
   "outputs": [],
   "source": [
    "#Classificando os valores em ordem decrescente\n",
    "estados_valor = estados_valor.sort_values(ascending=False)"
   ]
  },
  {
   "cell_type": "code",
   "execution_count": null,
   "metadata": {},
   "outputs": [],
   "source": [
    "#Plotando o gráfico\n",
    "data = [go.Bar(x=estados_valor.index,\n",
    "        y=estados_valor.values,\n",
    "        marker = {'color':'lightblue'})]\n",
    "\n",
    "\n",
    "layout = go.Layout(title='Valor total de beneficios por estado',\n",
    "                   yaxis={'title':'Valores(em milhões)'},\n",
    "                   xaxis={'title':'Estados'})\n",
    "\n",
    "fig = go.Figure(data=data, layout=layout)\n",
    "py.iplot(fig)"
   ]
  },
  {
   "cell_type": "markdown",
   "metadata": {},
   "source": [
    "### 3 - As 10 cidades com o maior número de beneficiários"
   ]
  },
  {
   "cell_type": "code",
   "execution_count": null,
   "metadata": {},
   "outputs": [],
   "source": [
    "#Criando a variavel municipio_beneficiarios que recebe a contagem dos valores por municipio\n",
    "municipio_beneficiarios = df.municipio.value_counts().head(10)"
   ]
  },
  {
   "cell_type": "code",
   "execution_count": null,
   "metadata": {},
   "outputs": [],
   "source": [
    "#Plotando o gráfico\n",
    "data = [go.Bar(x=municipio_beneficiarios.index,\n",
    "        y=municipio_beneficiarios.values,\n",
    "        marker = {'color':'lightgreen'})]\n",
    "\n",
    "\n",
    "layout = go.Layout(title='Top 10 - Número de beneficiários Bolsa Família por municipio',\n",
    "                   yaxis={'title':'Beneficiários(mil)'},\n",
    "                   xaxis={'title':'Municipio'})\n",
    "\n",
    "fig = go.Figure(data=data, layout=layout)\n",
    "py.iplot(fig)"
   ]
  },
  {
   "cell_type": "markdown",
   "metadata": {},
   "source": [
    "### 4 - As 10 cidades com o maior valor total de beneficios(em dinheiro)"
   ]
  },
  {
   "cell_type": "code",
   "execution_count": null,
   "metadata": {},
   "outputs": [],
   "source": [
    "#Criando a variavel municipio_valor que recebe a soma dos valores ordenados por municipio\n",
    "municipio_valor = df.groupby(by='municipio').valor.sum()"
   ]
  },
  {
   "cell_type": "code",
   "execution_count": null,
   "metadata": {},
   "outputs": [],
   "source": [
    "#Classificando os valores em ordem decrescente\n",
    "municipio_valor = municipio_valor.sort_values(ascending=False).head(10)"
   ]
  },
  {
   "cell_type": "code",
   "execution_count": null,
   "metadata": {},
   "outputs": [],
   "source": [
    "#Plotando o gráfico\n",
    "data = [go.Bar(x=municipio_valor.index,\n",
    "        y=municipio_valor.values,\n",
    "        marker = {'color':'lightgreen'})]\n",
    "\n",
    "\n",
    "layout = go.Layout(title='Top 10 - Valor total de beneficios por municipio',\n",
    "                   yaxis={'title':'Valores(em milhões)'},\n",
    "                   xaxis={'title':'Municipio'})\n",
    "\n",
    "fig = go.Figure(data=data, layout=layout)\n",
    "py.iplot(fig)"
   ]
  }
 ],
 "metadata": {
  "kernelspec": {
   "display_name": "Python 3",
   "language": "python",
   "name": "python3"
  },
  "language_info": {
   "codemirror_mode": {
    "name": "ipython",
    "version": 3
   },
   "file_extension": ".py",
   "mimetype": "text/x-python",
   "name": "python",
   "nbconvert_exporter": "python",
   "pygments_lexer": "ipython3",
   "version": "3.7.4"
  }
 },
 "nbformat": 4,
 "nbformat_minor": 2
}
